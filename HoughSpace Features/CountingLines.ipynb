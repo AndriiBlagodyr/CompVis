{
  "nbformat": 4,
  "nbformat_minor": 0,
  "metadata": {
    "colab": {
      "name": "ABlagodyr HomeWork-1.ipynb",
      "provenance": []
    },
    "kernelspec": {
      "name": "python3",
      "display_name": "Python 3"
    }
  },
  "cells": [
    {
      "cell_type": "code",
      "metadata": {
        "id": "4VZa6B8FEihs",
        "colab_type": "code",
        "colab": {}
      },
      "source": [
        "import matplotlib.pyplot as plt\n",
        "import matplotlib.image as mpimg\n",
        "import math\n",
        "import glob\n",
        "\n",
        "import cv2\n",
        "import numpy as np\n",
        "\n",
        "import matplotlib.pyplot as plt\n",
        "from mpl_toolkits.axes_grid1 import make_axes_locatable\n",
        "from scipy.signal import convolve2d"
      ],
      "execution_count": 1,
      "outputs": []
    },
    {
      "cell_type": "code",
      "metadata": {
        "id": "f_1fyNuhIzAv",
        "colab_type": "code",
        "colab": {}
      },
      "source": [
        "%matplotlib inline"
      ],
      "execution_count": 2,
      "outputs": []
    },
    {
      "cell_type": "markdown",
      "metadata": {
        "id": "4ec32qSEKVAI",
        "colab_type": "text"
      },
      "source": [
        "1. Edge detection\n",
        "2. Trace all images for each pixel\n",
        "3. draw lines in hough space\n",
        "4. apply threshold to hough space\n",
        "5. pick (a,b) coordinates in hough space"
      ]
    },
    {
      "cell_type": "code",
      "metadata": {
        "id": "fLsYeAeileX7",
        "colab_type": "code",
        "colab": {}
      },
      "source": [
        "HOUGH_SPACE_SIZE = 512\n",
        "LINE_MIN_LENGTH = 64\n",
        "NON_MAX_SUPPRESSION_DIST = 5\n",
        "\n",
        "NUM_SINUSOIDS = 40\n",
        "\n",
        "# TODO: pick the required threshold\n",
        "LINE_EDGE_THRESHOLD = 80"
      ],
      "execution_count": 3,
      "outputs": []
    },
    {
      "cell_type": "code",
      "metadata": {
        "id": "zzr_wd3djLxi",
        "colab_type": "code",
        "colab": {}
      },
      "source": [
        "def imshow_with_colorbar(index, img):\n",
        "    plt.figure(index)\n",
        "    ax = plt.subplot(111)\n",
        "    im = ax.imshow(img)\n",
        "    divider = make_axes_locatable(ax)\n",
        "    cax = divider.append_axes(\"right\", size=\"5%\", pad=0.05)\n",
        "    plt.colorbar(im, cax=cax)\n",
        "\n",
        "def convolve(img, kernel):\n",
        "    # TODO:\n",
        "    # write convolve operation\n",
        "    # (the output array may have negative values)\n",
        "    # for result comparison:\n",
        "    # return convolve2d(img, kernel, mode='valid')\n",
        "    # return np.sum(np.multiply(img, kernel))\n",
        "    kernel_h, kernel_w = kernel.shape\n",
        "    img_h, img_w = img.shape\n",
        "    img_h = img_h - kernel_h + 1\n",
        "    img_w = img_w - kernel_h + 1\n",
        "    new_img = np.zeros((img_h, img_w))\n",
        "    for i in range(img_h):\n",
        "        for j in range(img_w):\n",
        "            new_img[i][j] = np.sum(img[i:i+kernel_h, j:j+kernel_h]*kernel)\n",
        "    return new_img\n",
        "\n",
        "def threshold(img, threshold_value):\n",
        "    # TODO:\n",
        "    # write threshold operation\n",
        "    # funciton should return numpy array with 1 in pixels that are higher or equal to threshold, otherwise - zero\n",
        "\n",
        "    # img_array = img.reshape(-1)\n",
        "    # threshold_array = np.array([thres(val, threshold_value) for val in img_array])\n",
        "    # return threshold_array\n",
        "    \n",
        "    img_copy = np.copy(img)\n",
        "    h,w = img_copy.shape\n",
        "    img_array = img_copy.reshape(-1)\n",
        "    # threshold_array = np.array([thres(val, threshold_value) for val in img_array])\n",
        "    threshold_array = np.array([1 if pix_ >= threshold_value else 0 for pix_ in img_array])\n",
        "    threshold_array = threshold_array.reshape(h,w)\n",
        "    return threshold_array\n",
        "    # return (img >= threshold_value).astype(np.uint8)\n",
        "\n",
        "def draw_line_in_hough_space(h_space, y, x):\n",
        "    # TODO:\n",
        "    # I propose to use polar coordinates instead of proposed y = a*x + b.\n",
        "    # They are way easier for implementation.\n",
        "    # The idea is the same. Short documentation: https://docs.opencv.org/3.4/d9/db0/tutorial_hough_lines.html\n",
        "\n",
        "    for angle_index in range(HOUGH_SPACE_SIZE):\n",
        "        angle = angle_index / HOUGH_SPACE_SIZE * (2 * math.pi)\n",
        "        r_index = math.ceil(math.cos(angle)*x + math.sin(angle)*y)\n",
        "\n",
        "        if r_index <= 0:\n",
        "          continue\n",
        "        \n",
        "        h_space[r_index, angle_index] += 1\n",
        "\n",
        "def count_lines(img, is_debug):\n",
        "    if is_debug: imshow_with_colorbar(1, img)\n",
        "\n",
        "    # TODO:\n",
        "    # pick the kernel for convolve operation, you need to find edges\n",
        "    k = np.array([[0,-1,0], [-1,4,-1],[0,-1,0]])\n",
        "    # k = np.array([[-1,-1,-1], [-1,8,-1],[-1,-1,-1]])\n",
        "    # k = np.array([[1,1,1], [1,-8,1],[1,1,1]])\n",
        "    # k = np.array([[0,-1,0], [-1,8,-1],[0,-1,0]])\n",
        "\n",
        "    # calculate convolve operation\n",
        "    img_c = convolve(img, k)\n",
        "    if is_debug: imshow_with_colorbar(2, img_c)\n",
        "\n",
        "    # TODO:\n",
        "    # apply thresholding (the result of the threshold should be array with zeros and ones)\n",
        "    img_thr = threshold(img_c, LINE_EDGE_THRESHOLD) # LINE_EDGE_THRESHOLD\n",
        "    if is_debug: imshow_with_colorbar(3, img_thr)\n",
        "\n",
        "    h_space = np.zeros((HOUGH_SPACE_SIZE, HOUGH_SPACE_SIZE), dtype=np.int)\n",
        "\n",
        "    # for each coordinate ...\n",
        "    for y in range(img_thr.shape[0]):\n",
        "        for x in range(img_thr.shape[1]):\n",
        "            # if there is edge ...\n",
        "            if img_thr[y,x] != 0:\n",
        "                draw_line_in_hough_space(h_space, y, x)\n",
        "    if is_debug: imshow_with_colorbar(4, h_space)\n",
        "\n",
        "    # apply threshold for hough space.\n",
        "    # TODO:\n",
        "    # pick the threshold to cut-off smaller lines\n",
        "    # h_space_mask = threshold(h_space, ...)\n",
        "    h_space_mask = threshold(h_space, NUM_SINUSOIDS)\n",
        "\n",
        "    if is_debug: imshow_with_colorbar(5, h_space_mask)\n",
        "\n",
        "    # get indices of non-zero elements\n",
        "    y_arr, x_arr = np.nonzero(h_space_mask)\n",
        "\n",
        "    # calculate the lines number,\n",
        "    # here is simple non maximum suppresion algorithm.\n",
        "    # it counts only one point in the distance NON_MAX_SUPPRESSION_DIST\n",
        "    lines_num = 0\n",
        "    for i in range(len(y_arr)):\n",
        "        has_neighbour = False\n",
        "        for j in range(i):\n",
        "            yi, xi = y_arr[i], x_arr[i]\n",
        "            yj, xj = y_arr[j], x_arr[j]\n",
        "            dy = abs(yi - yj)\n",
        "            dx = abs(xi - xj)\n",
        "            if dy <= NON_MAX_SUPPRESSION_DIST and \\\n",
        "                (dx <= NON_MAX_SUPPRESSION_DIST or \\\n",
        "                 dx >= HOUGH_SPACE_SIZE - NON_MAX_SUPPRESSION_DIST):  # if x axis represents the angle, than check the distance if the points points that are near 0 degree (for example, distance between 1 deg. and 359 deg. is 2 deg.)\n",
        "                has_neighbour = True\n",
        "                break\n",
        "\n",
        "        if not has_neighbour:\n",
        "            lines_num += 1\n",
        "\n",
        "    if is_debug: print('lines number: %d' % lines_num); plt.show()\n",
        "    return lines_num"
      ],
      "execution_count": 4,
      "outputs": []
    },
    {
      "cell_type": "code",
      "metadata": {
        "id": "eGDMXA07ltlp",
        "colab_type": "code",
        "colab": {
          "base_uri": "https://localhost:8080/",
          "height": 205
        },
        "outputId": "251989f0-a14b-4903-87bc-22d49187c6be"
      },
      "source": [
        "if __name__ == '__main__':\n",
        "    fpath_arr = glob.glob('./images/*.png')\n",
        "    fpath_arr.sort()\n",
        "\n",
        "    print(fpath_arr)\n",
        "\n",
        "    for img_fpath in fpath_arr:\n",
        "        img = cv2.imread(img_fpath, cv2.IMREAD_GRAYSCALE)\n",
        "        print('Number of lines: %d' % count_lines(img, False))"
      ],
      "execution_count": 5,
      "outputs": [
        {
          "output_type": "stream",
          "text": [
            "['./images/test_00.png', './images/test_01.png', './images/test_02.png', './images/test_03.png', './images/test_04.png', './images/test_05.png', './images/test_06.png', './images/test_07.png', './images/test_08.png']\n",
            "Number of lines: 1\n",
            "Number of lines: 2\n",
            "Number of lines: 3\n",
            "Number of lines: 4\n",
            "Number of lines: 4\n",
            "Number of lines: 4\n",
            "Number of lines: 4\n",
            "Number of lines: 4\n",
            "Number of lines: 4\n"
          ],
          "name": "stdout"
        }
      ]
    }
  ]
}